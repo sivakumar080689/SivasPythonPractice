{
 "cells": [
  {
   "cell_type": "code",
   "execution_count": 3,
   "id": "af232d4d-3c8e-438f-88b5-7ee0907f7fb6",
   "metadata": {},
   "outputs": [
    {
     "name": "stdout",
     "output_type": "stream",
     "text": [
      "greatest number is 8\n"
     ]
    }
   ],
   "source": [
    "#Write a program to find the greatest of three number\n",
    "\n",
    "#Input three numbers\n",
    "a= 2\n",
    "b=5\n",
    "c=8\n",
    "\n",
    "#Find the greatest number using conditional statements\n",
    "if a>=b and a>=c:\n",
    "    greatest = a\n",
    "elif b>=a and b>=c:\n",
    "    greatest = b\n",
    "else:\n",
    "    greatest = c\n",
    "\n",
    "print(f\"greatest number is {greatest}\")\n",
    "\n"
   ]
  },
  {
   "cell_type": "code",
   "execution_count": null,
   "id": "411fd264-1da3-4f5b-b15f-c2ca586f93ad",
   "metadata": {},
   "outputs": [],
   "source": []
  }
 ],
 "metadata": {
  "kernelspec": {
   "display_name": "Python 3 (ipykernel)",
   "language": "python",
   "name": "python3"
  },
  "language_info": {
   "codemirror_mode": {
    "name": "ipython",
    "version": 3
   },
   "file_extension": ".py",
   "mimetype": "text/x-python",
   "name": "python",
   "nbconvert_exporter": "python",
   "pygments_lexer": "ipython3",
   "version": "3.11.5"
  }
 },
 "nbformat": 4,
 "nbformat_minor": 5
}
