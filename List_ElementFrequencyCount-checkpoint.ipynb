{
 "cells": [
  {
   "cell_type": "code",
   "execution_count": 24,
   "id": "6b40dcaf-85a3-4843-b998-d63a698bdc0e",
   "metadata": {},
   "outputs": [
    {
     "name": "stdout",
     "output_type": "stream",
     "text": [
      "1:1 times\n",
      "2:2 times\n",
      "3:1 times\n",
      "4:4 times\n",
      "5:1 times\n",
      "6:1 times\n",
      "7:1 times\n",
      "8:2 times\n",
      "91:1 times\n"
     ]
    }
   ],
   "source": [
    "#Count the Frequency of element in a List\n",
    "from collections import Counter\n",
    "my_list = [1,2,2,3,4,4,4,4,5,6,7,8,8,91]\n",
    "\n",
    "element_counts = Counter(my_list)\n",
    "\n",
    "for x, y in element_counts.items():\n",
    "    print(f\"{x}:{y} times\")\n"
   ]
  },
  {
   "cell_type": "code",
   "execution_count": null,
   "id": "42da5a14-60a4-4d81-981a-725fae28c559",
   "metadata": {},
   "outputs": [],
   "source": []
  }
 ],
 "metadata": {
  "kernelspec": {
   "display_name": "Python 3 (ipykernel)",
   "language": "python",
   "name": "python3"
  },
  "language_info": {
   "codemirror_mode": {
    "name": "ipython",
    "version": 3
   },
   "file_extension": ".py",
   "mimetype": "text/x-python",
   "name": "python",
   "nbconvert_exporter": "python",
   "pygments_lexer": "ipython3",
   "version": "3.11.5"
  }
 },
 "nbformat": 4,
 "nbformat_minor": 5
}
