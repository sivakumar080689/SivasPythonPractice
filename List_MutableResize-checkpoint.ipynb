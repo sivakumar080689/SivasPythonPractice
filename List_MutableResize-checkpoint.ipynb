{
 "cells": [
  {
   "cell_type": "code",
   "execution_count": 11,
   "id": "6b40dcaf-85a3-4843-b998-d63a698bdc0e",
   "metadata": {},
   "outputs": [
    {
     "name": "stdout",
     "output_type": "stream",
     "text": [
      "original list:  [2, 3, 4, 5, 6, 7, 8, 9, 10, 11]\n",
      "after updating the 3rd element:  [2, 3, 100, 5, 6, 7, 8, 9, 10, 11]\n",
      "after adding 100 to the 5th position [2, 3, 100, 5, 100, 6, 7, 8, 9, 10, 11]\n"
     ]
    }
   ],
   "source": [
    "# Create a list with a range of 10 values starting from 2 to 11 and prove mutability by updating the 3rd element with 100 and prove resizable properties by adding 100 in the 5th position.\n",
    "\n",
    "my_list = list(range(2,12))\n",
    "print(\"original list: \",my_list)\n",
    "\n",
    "#update the 3rd element with 100\n",
    "my_list[2] = 100\n",
    "print(\"after updating the 3rd element: \",my_list)\n",
    "\n",
    "#add 100 to the 5th position\n",
    "my_list.insert(4,100)\n",
    "print(\"after adding 100 to the 5th position\",my_list)\n",
    "\n",
    "\n"
   ]
  },
  {
   "cell_type": "code",
   "execution_count": null,
   "id": "1a9a4a52-a899-4cf3-a506-b7cb53152252",
   "metadata": {},
   "outputs": [],
   "source": []
  }
 ],
 "metadata": {
  "kernelspec": {
   "display_name": "Python 3 (ipykernel)",
   "language": "python",
   "name": "python3"
  },
  "language_info": {
   "codemirror_mode": {
    "name": "ipython",
    "version": 3
   },
   "file_extension": ".py",
   "mimetype": "text/x-python",
   "name": "python",
   "nbconvert_exporter": "python",
   "pygments_lexer": "ipython3",
   "version": "3.11.5"
  }
 },
 "nbformat": 4,
 "nbformat_minor": 5
}
