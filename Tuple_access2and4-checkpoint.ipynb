{
 "cells": [
  {
   "cell_type": "code",
   "execution_count": 20,
   "id": "6b40dcaf-85a3-4843-b998-d63a698bdc0e",
   "metadata": {},
   "outputs": [
    {
     "name": "stdout",
     "output_type": "stream",
     "text": [
      "('sivas', 'tecnologies', 'pvt', 'ltd')\n",
      "('tecnologies', 'ltd')\n"
     ]
    }
   ],
   "source": [
    "#Create a tuple with 4 fields eg. (\"Sivas\",\"Technologies\",\"Pvt\",\"Ltd\"), prove immutability and non resizable nature, access the 2nd and 4th fields and store in another tuple.\n",
    "my_tuple=(\"sivas\",\"tecnologies\",\"pvt\",\"ltd\")\n",
    "print(my_tuple)\n",
    "\n",
    "#Access the 2nd and 4th fields and store in another tuple\n",
    "field2 = my_tuple[1]\n",
    "field4 = my_tuple[3]\n",
    "\n",
    "new_tuple = (field2, field4)\n",
    "\n",
    "print(new_tuple)"
   ]
  },
  {
   "cell_type": "code",
   "execution_count": null,
   "id": "1f79de53-4472-44d3-aafa-d2baf2a6329e",
   "metadata": {},
   "outputs": [],
   "source": []
  }
 ],
 "metadata": {
  "kernelspec": {
   "display_name": "Python 3 (ipykernel)",
   "language": "python",
   "name": "python3"
  },
  "language_info": {
   "codemirror_mode": {
    "name": "ipython",
    "version": 3
   },
   "file_extension": ".py",
   "mimetype": "text/x-python",
   "name": "python",
   "nbconvert_exporter": "python",
   "pygments_lexer": "ipython3",
   "version": "3.11.5"
  }
 },
 "nbformat": 4,
 "nbformat_minor": 5
}
