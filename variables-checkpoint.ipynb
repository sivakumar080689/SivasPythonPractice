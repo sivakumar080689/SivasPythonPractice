{
 "cells": [
  {
   "cell_type": "code",
   "execution_count": 5,
   "id": "e309356b-e7ce-47fb-b041-babc2b53fd8c",
   "metadata": {},
   "outputs": [
    {
     "name": "stdout",
     "output_type": "stream",
     "text": [
      "1000\n",
      "10.0\n"
     ]
    }
   ],
   "source": [
    "--Create 2 variables with x as 100 & y as 10 respectively and find the Multiplication and division of both and store in some val as z and z1.\n",
    "x=100\n",
    "y=10\n",
    "z= x* y\n",
    "z1=x/y\n",
    "print(z)\n",
    "print(z1)"
   ]
  },
  {
   "cell_type": "code",
   "execution_count": 6,
   "id": "7b937bca-1ddf-425a-bc51-9ec9e56a5347",
   "metadata": {},
   "outputs": [
    {
     "name": "stdout",
     "output_type": "stream",
     "text": [
      "200.0\n"
     ]
    }
   ],
   "source": [
    "--Create a as 2000 and find the division of a by y (created in step 1) and reassign a with the divided result (200).\n",
    "a=2000\n",
    "a=a/y\n",
    "print(a)"
   ]
  },
  {
   "cell_type": "code",
   "execution_count": 7,
   "id": "18424f26-bbd5-467a-b576-e3ffd0d79bda",
   "metadata": {},
   "outputs": [
    {
     "ename": "SyntaxError",
     "evalue": "invalid syntax (518879018.py, line 1)",
     "output_type": "error",
     "traceback": [
      "\u001b[1;36m  Cell \u001b[1;32mIn[7], line 1\u001b[1;36m\u001b[0m\n\u001b[1;33m    --Prove Python is Dynamically Typed Language: Create x:int=100, then assign the x to y, but the datatype of y has to be of type string. (think about using some function like str()). Print the type of y and x\u001b[0m\n\u001b[1;37m            ^\u001b[0m\n\u001b[1;31mSyntaxError\u001b[0m\u001b[1;31m:\u001b[0m invalid syntax\n"
     ]
    }
   ],
   "source": [
    "--Prove Python is Dynamically Typed Language: Create x:int=100, then assign the x to y, but the datatype of y has to be of type string. (think about using some function like str()). Print the type of y and x\n",
    "x:int=100\n",
    "y=str(x)\n",
    "print(y)\n",
    "print(type(x))\n",
    "print(type(y))"
   ]
  },
  {
   "cell_type": "code",
   "execution_count": null,
   "id": "9dfd6f63-4e65-42c9-866e-6c063833c1e6",
   "metadata": {},
   "outputs": [],
   "source": []
  }
 ],
 "metadata": {
  "kernelspec": {
   "display_name": "Python 3 (ipykernel)",
   "language": "python",
   "name": "python3"
  },
  "language_info": {
   "codemirror_mode": {
    "name": "ipython",
    "version": 3
   },
   "file_extension": ".py",
   "mimetype": "text/x-python",
   "name": "python",
   "nbconvert_exporter": "python",
   "pygments_lexer": "ipython3",
   "version": "3.11.5"
  }
 },
 "nbformat": 4,
 "nbformat_minor": 5
}
